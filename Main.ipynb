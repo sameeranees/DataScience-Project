{
 "cells": [
  {
   "cell_type": "markdown",
   "metadata": {},
   "source": [
    "# Data Science Project: Student Academic Performance"
   ]
  },
  {
   "cell_type": "markdown",
   "metadata": {},
   "source": [
    "### Student Name: Sameer Anees Jaliawala\n",
    "### Student ID: sj02732\n",
    "### Student Email: sj02732@st.habib.edu.pk"
   ]
  },
  {
   "cell_type": "markdown",
   "metadata": {},
   "source": [
    "## 1. Importing Libraries and Dataset"
   ]
  },
  {
   "cell_type": "code",
   "execution_count": 53,
   "metadata": {},
   "outputs": [
    {
     "name": "stdout",
     "output_type": "stream",
     "text": [
      "Dataset: Sapfile1\n",
      "\tge's type is nominal, range is ('M', 'F')\n",
      "\tcst's type is nominal, range is ('G', 'ST', 'SC', 'OBC', 'MOBC')\n",
      "\ttnp's type is nominal, range is ('Best', 'Vg', 'Good', 'Pass', 'Fail')\n",
      "\ttwp's type is nominal, range is ('Best', 'Vg', 'Good', 'Pass', 'Fail')\n",
      "\tiap's type is nominal, range is ('Best', 'Vg', 'Good', 'Pass', 'Fail')\n",
      "\tesp's type is nominal, range is ('Best', 'Vg', 'Good', 'Pass', 'Fail')\n",
      "\tarr's type is nominal, range is ('Y', 'N')\n",
      "\tms's type is nominal, range is ('Married', 'Unmarried')\n",
      "\tls's type is nominal, range is ('T', 'V')\n",
      "\tas's type is nominal, range is ('Free', 'Paid')\n",
      "\tfmi's type is nominal, range is ('Vh', 'High', 'Am', 'Medium', 'Low')\n",
      "\tfs's type is nominal, range is ('Large', 'Average', 'Small')\n",
      "\tfq's type is nominal, range is ('Il', 'Um', '10', '12', 'Degree', 'Pg')\n",
      "\tmq's type is nominal, range is ('Il', 'Um', '10', '12', 'Degree', 'Pg')\n",
      "\tfo's type is nominal, range is ('Service', 'Business', 'Retired', 'Farmer', 'Others')\n",
      "\tmo's type is nominal, range is ('Service', 'Business', 'Retired', 'Housewife', 'Others')\n",
      "\tnf's type is nominal, range is ('Large', 'Average', 'Small')\n",
      "\tsh's type is nominal, range is ('Good', 'Average', 'Poor')\n",
      "\tss's type is nominal, range is ('Govt', 'Private')\n",
      "\tme's type is nominal, range is ('Eng', 'Asm', 'Hin', 'Ben')\n",
      "\ttt's type is nominal, range is ('Large', 'Average', 'Small')\n",
      "\tatd's type is nominal, range is ('Good', 'Average', 'Poor')\n",
      "\n"
     ]
    }
   ],
   "source": [
    "#importing libraries\n",
    "from scipy.io import arff\n",
    "import pandas as pd\n",
    "import numpy as np\n",
    "# the dataset can be downloaded from here: https://archive.ics.uci.edu/ml/machine-learning-databases/00467/\n",
    "#importing dataset\n",
    "data,meta = arff.loadarff('Sapfile1.arff')\n",
    "print(meta)\n",
    "df = pd.DataFrame(data)"
   ]
  },
  {
   "cell_type": "markdown",
   "metadata": {},
   "source": [
    "<p>We will use scipy to load data set and then load it into dataframe. The meta data has been provided above.</p>"
   ]
  },
  {
   "cell_type": "markdown",
   "metadata": {},
   "source": [
    "## 2. Decode it from utf-8 format"
   ]
  },
  {
   "cell_type": "code",
   "execution_count": 54,
   "metadata": {},
   "outputs": [
    {
     "data": {
      "text/html": [
       "<div>\n",
       "<style scoped>\n",
       "    .dataframe tbody tr th:only-of-type {\n",
       "        vertical-align: middle;\n",
       "    }\n",
       "\n",
       "    .dataframe tbody tr th {\n",
       "        vertical-align: top;\n",
       "    }\n",
       "\n",
       "    .dataframe thead th {\n",
       "        text-align: right;\n",
       "    }\n",
       "</style>\n",
       "<table border=\"1\" class=\"dataframe\">\n",
       "  <thead>\n",
       "    <tr style=\"text-align: right;\">\n",
       "      <th></th>\n",
       "      <th>ge</th>\n",
       "      <th>cst</th>\n",
       "      <th>tnp</th>\n",
       "      <th>twp</th>\n",
       "      <th>iap</th>\n",
       "      <th>esp</th>\n",
       "      <th>arr</th>\n",
       "      <th>ms</th>\n",
       "      <th>ls</th>\n",
       "      <th>as</th>\n",
       "      <th>...</th>\n",
       "      <th>fq</th>\n",
       "      <th>mq</th>\n",
       "      <th>fo</th>\n",
       "      <th>mo</th>\n",
       "      <th>nf</th>\n",
       "      <th>sh</th>\n",
       "      <th>ss</th>\n",
       "      <th>me</th>\n",
       "      <th>tt</th>\n",
       "      <th>atd</th>\n",
       "    </tr>\n",
       "  </thead>\n",
       "  <tbody>\n",
       "    <tr>\n",
       "      <td>0</td>\n",
       "      <td>F</td>\n",
       "      <td>G</td>\n",
       "      <td>Good</td>\n",
       "      <td>Good</td>\n",
       "      <td>Vg</td>\n",
       "      <td>Good</td>\n",
       "      <td>Y</td>\n",
       "      <td>Unmarried</td>\n",
       "      <td>V</td>\n",
       "      <td>Paid</td>\n",
       "      <td>...</td>\n",
       "      <td>Um</td>\n",
       "      <td>10</td>\n",
       "      <td>Farmer</td>\n",
       "      <td>Housewife</td>\n",
       "      <td>Large</td>\n",
       "      <td>Poor</td>\n",
       "      <td>Govt</td>\n",
       "      <td>Asm</td>\n",
       "      <td>Small</td>\n",
       "      <td>Good</td>\n",
       "    </tr>\n",
       "    <tr>\n",
       "      <td>1</td>\n",
       "      <td>M</td>\n",
       "      <td>OBC</td>\n",
       "      <td>Vg</td>\n",
       "      <td>Vg</td>\n",
       "      <td>Vg</td>\n",
       "      <td>Vg</td>\n",
       "      <td>N</td>\n",
       "      <td>Unmarried</td>\n",
       "      <td>V</td>\n",
       "      <td>Paid</td>\n",
       "      <td>...</td>\n",
       "      <td>Um</td>\n",
       "      <td>Il</td>\n",
       "      <td>Service</td>\n",
       "      <td>Service</td>\n",
       "      <td>Small</td>\n",
       "      <td>Poor</td>\n",
       "      <td>Govt</td>\n",
       "      <td>Asm</td>\n",
       "      <td>Average</td>\n",
       "      <td>Average</td>\n",
       "    </tr>\n",
       "    <tr>\n",
       "      <td>2</td>\n",
       "      <td>F</td>\n",
       "      <td>OBC</td>\n",
       "      <td>Good</td>\n",
       "      <td>Good</td>\n",
       "      <td>Vg</td>\n",
       "      <td>Good</td>\n",
       "      <td>N</td>\n",
       "      <td>Unmarried</td>\n",
       "      <td>V</td>\n",
       "      <td>Paid</td>\n",
       "      <td>...</td>\n",
       "      <td>12</td>\n",
       "      <td>10</td>\n",
       "      <td>Service</td>\n",
       "      <td>Housewife</td>\n",
       "      <td>Average</td>\n",
       "      <td>Average</td>\n",
       "      <td>Govt</td>\n",
       "      <td>Asm</td>\n",
       "      <td>Large</td>\n",
       "      <td>Good</td>\n",
       "    </tr>\n",
       "    <tr>\n",
       "      <td>3</td>\n",
       "      <td>M</td>\n",
       "      <td>MOBC</td>\n",
       "      <td>Pass</td>\n",
       "      <td>Good</td>\n",
       "      <td>Vg</td>\n",
       "      <td>Good</td>\n",
       "      <td>N</td>\n",
       "      <td>Unmarried</td>\n",
       "      <td>V</td>\n",
       "      <td>Paid</td>\n",
       "      <td>...</td>\n",
       "      <td>12</td>\n",
       "      <td>Um</td>\n",
       "      <td>Business</td>\n",
       "      <td>Business</td>\n",
       "      <td>Large</td>\n",
       "      <td>Poor</td>\n",
       "      <td>Govt</td>\n",
       "      <td>Asm</td>\n",
       "      <td>Average</td>\n",
       "      <td>Average</td>\n",
       "    </tr>\n",
       "    <tr>\n",
       "      <td>4</td>\n",
       "      <td>M</td>\n",
       "      <td>G</td>\n",
       "      <td>Good</td>\n",
       "      <td>Good</td>\n",
       "      <td>Vg</td>\n",
       "      <td>Vg</td>\n",
       "      <td>N</td>\n",
       "      <td>Unmarried</td>\n",
       "      <td>V</td>\n",
       "      <td>Paid</td>\n",
       "      <td>...</td>\n",
       "      <td>10</td>\n",
       "      <td>12</td>\n",
       "      <td>Service</td>\n",
       "      <td>Housewife</td>\n",
       "      <td>Large</td>\n",
       "      <td>Poor</td>\n",
       "      <td>Private</td>\n",
       "      <td>Asm</td>\n",
       "      <td>Small</td>\n",
       "      <td>Good</td>\n",
       "    </tr>\n",
       "  </tbody>\n",
       "</table>\n",
       "<p>5 rows × 22 columns</p>\n",
       "</div>"
      ],
      "text/plain": [
       "  ge   cst   tnp   twp iap   esp arr         ms ls    as  ...  fq  mq  \\\n",
       "0  F     G  Good  Good  Vg  Good   Y  Unmarried  V  Paid  ...  Um  10   \n",
       "1  M   OBC    Vg    Vg  Vg    Vg   N  Unmarried  V  Paid  ...  Um  Il   \n",
       "2  F   OBC  Good  Good  Vg  Good   N  Unmarried  V  Paid  ...  12  10   \n",
       "3  M  MOBC  Pass  Good  Vg  Good   N  Unmarried  V  Paid  ...  12  Um   \n",
       "4  M     G  Good  Good  Vg    Vg   N  Unmarried  V  Paid  ...  10  12   \n",
       "\n",
       "         fo         mo       nf       sh       ss   me       tt      atd  \n",
       "0    Farmer  Housewife    Large     Poor     Govt  Asm    Small     Good  \n",
       "1   Service    Service    Small     Poor     Govt  Asm  Average  Average  \n",
       "2   Service  Housewife  Average  Average     Govt  Asm    Large     Good  \n",
       "3  Business   Business    Large     Poor     Govt  Asm  Average  Average  \n",
       "4   Service  Housewife    Large     Poor  Private  Asm    Small     Good  \n",
       "\n",
       "[5 rows x 22 columns]"
      ]
     },
     "execution_count": 54,
     "metadata": {},
     "output_type": "execute_result"
    }
   ],
   "source": [
    "#decode from utf-8\n",
    "str_df = df.select_dtypes([np.object])\n",
    "str_df = str_df.stack().str.decode('utf-8').unstack()\n",
    "#inspecting data\n",
    "str_df.head()"
   ]
  },
  {
   "cell_type": "markdown",
   "metadata": {},
   "source": [
    "<p>As the dataset is encoded, we have to first decode all the dataframe columns. We can also see the first few rows from the dataset. A random sample of 6 has also been printed below.</p>"
   ]
  },
  {
   "cell_type": "markdown",
   "metadata": {},
   "source": [
    "## 3. Inspecting Data"
   ]
  },
  {
   "cell_type": "code",
   "execution_count": 55,
   "metadata": {
    "scrolled": true
   },
   "outputs": [
    {
     "data": {
      "text/html": [
       "<div>\n",
       "<style scoped>\n",
       "    .dataframe tbody tr th:only-of-type {\n",
       "        vertical-align: middle;\n",
       "    }\n",
       "\n",
       "    .dataframe tbody tr th {\n",
       "        vertical-align: top;\n",
       "    }\n",
       "\n",
       "    .dataframe thead th {\n",
       "        text-align: right;\n",
       "    }\n",
       "</style>\n",
       "<table border=\"1\" class=\"dataframe\">\n",
       "  <thead>\n",
       "    <tr style=\"text-align: right;\">\n",
       "      <th></th>\n",
       "      <th>ge</th>\n",
       "      <th>cst</th>\n",
       "      <th>tnp</th>\n",
       "      <th>twp</th>\n",
       "      <th>iap</th>\n",
       "      <th>esp</th>\n",
       "      <th>arr</th>\n",
       "      <th>ms</th>\n",
       "      <th>ls</th>\n",
       "      <th>as</th>\n",
       "      <th>...</th>\n",
       "      <th>fq</th>\n",
       "      <th>mq</th>\n",
       "      <th>fo</th>\n",
       "      <th>mo</th>\n",
       "      <th>nf</th>\n",
       "      <th>sh</th>\n",
       "      <th>ss</th>\n",
       "      <th>me</th>\n",
       "      <th>tt</th>\n",
       "      <th>atd</th>\n",
       "    </tr>\n",
       "  </thead>\n",
       "  <tbody>\n",
       "    <tr>\n",
       "      <td>51</td>\n",
       "      <td>F</td>\n",
       "      <td>G</td>\n",
       "      <td>Best</td>\n",
       "      <td>Vg</td>\n",
       "      <td>Best</td>\n",
       "      <td>Best</td>\n",
       "      <td>N</td>\n",
       "      <td>Unmarried</td>\n",
       "      <td>V</td>\n",
       "      <td>Free</td>\n",
       "      <td>...</td>\n",
       "      <td>Degree</td>\n",
       "      <td>10</td>\n",
       "      <td>Business</td>\n",
       "      <td>Housewife</td>\n",
       "      <td>Average</td>\n",
       "      <td>Good</td>\n",
       "      <td>Private</td>\n",
       "      <td>Eng</td>\n",
       "      <td>Small</td>\n",
       "      <td>Good</td>\n",
       "    </tr>\n",
       "    <tr>\n",
       "      <td>100</td>\n",
       "      <td>M</td>\n",
       "      <td>ST</td>\n",
       "      <td>Vg</td>\n",
       "      <td>Good</td>\n",
       "      <td>Vg</td>\n",
       "      <td>Vg</td>\n",
       "      <td>N</td>\n",
       "      <td>Unmarried</td>\n",
       "      <td>V</td>\n",
       "      <td>Paid</td>\n",
       "      <td>...</td>\n",
       "      <td>Il</td>\n",
       "      <td>Il</td>\n",
       "      <td>Farmer</td>\n",
       "      <td>Housewife</td>\n",
       "      <td>Small</td>\n",
       "      <td>Poor</td>\n",
       "      <td>Govt</td>\n",
       "      <td>Eng</td>\n",
       "      <td>Small</td>\n",
       "      <td>Average</td>\n",
       "    </tr>\n",
       "    <tr>\n",
       "      <td>3</td>\n",
       "      <td>M</td>\n",
       "      <td>MOBC</td>\n",
       "      <td>Pass</td>\n",
       "      <td>Good</td>\n",
       "      <td>Vg</td>\n",
       "      <td>Good</td>\n",
       "      <td>N</td>\n",
       "      <td>Unmarried</td>\n",
       "      <td>V</td>\n",
       "      <td>Paid</td>\n",
       "      <td>...</td>\n",
       "      <td>12</td>\n",
       "      <td>Um</td>\n",
       "      <td>Business</td>\n",
       "      <td>Business</td>\n",
       "      <td>Large</td>\n",
       "      <td>Poor</td>\n",
       "      <td>Govt</td>\n",
       "      <td>Asm</td>\n",
       "      <td>Average</td>\n",
       "      <td>Average</td>\n",
       "    </tr>\n",
       "    <tr>\n",
       "      <td>7</td>\n",
       "      <td>F</td>\n",
       "      <td>OBC</td>\n",
       "      <td>Good</td>\n",
       "      <td>Good</td>\n",
       "      <td>Good</td>\n",
       "      <td>Good</td>\n",
       "      <td>N</td>\n",
       "      <td>Unmarried</td>\n",
       "      <td>V</td>\n",
       "      <td>Paid</td>\n",
       "      <td>...</td>\n",
       "      <td>Il</td>\n",
       "      <td>Um</td>\n",
       "      <td>Farmer</td>\n",
       "      <td>Housewife</td>\n",
       "      <td>Small</td>\n",
       "      <td>Poor</td>\n",
       "      <td>Private</td>\n",
       "      <td>Asm</td>\n",
       "      <td>Average</td>\n",
       "      <td>Good</td>\n",
       "    </tr>\n",
       "    <tr>\n",
       "      <td>21</td>\n",
       "      <td>F</td>\n",
       "      <td>G</td>\n",
       "      <td>Vg</td>\n",
       "      <td>Good</td>\n",
       "      <td>Vg</td>\n",
       "      <td>Vg</td>\n",
       "      <td>Y</td>\n",
       "      <td>Unmarried</td>\n",
       "      <td>V</td>\n",
       "      <td>Paid</td>\n",
       "      <td>...</td>\n",
       "      <td>10</td>\n",
       "      <td>10</td>\n",
       "      <td>Service</td>\n",
       "      <td>Housewife</td>\n",
       "      <td>Large</td>\n",
       "      <td>Poor</td>\n",
       "      <td>Private</td>\n",
       "      <td>Eng</td>\n",
       "      <td>Small</td>\n",
       "      <td>Good</td>\n",
       "    </tr>\n",
       "    <tr>\n",
       "      <td>1</td>\n",
       "      <td>M</td>\n",
       "      <td>OBC</td>\n",
       "      <td>Vg</td>\n",
       "      <td>Vg</td>\n",
       "      <td>Vg</td>\n",
       "      <td>Vg</td>\n",
       "      <td>N</td>\n",
       "      <td>Unmarried</td>\n",
       "      <td>V</td>\n",
       "      <td>Paid</td>\n",
       "      <td>...</td>\n",
       "      <td>Um</td>\n",
       "      <td>Il</td>\n",
       "      <td>Service</td>\n",
       "      <td>Service</td>\n",
       "      <td>Small</td>\n",
       "      <td>Poor</td>\n",
       "      <td>Govt</td>\n",
       "      <td>Asm</td>\n",
       "      <td>Average</td>\n",
       "      <td>Average</td>\n",
       "    </tr>\n",
       "  </tbody>\n",
       "</table>\n",
       "<p>6 rows × 22 columns</p>\n",
       "</div>"
      ],
      "text/plain": [
       "    ge   cst   tnp   twp   iap   esp arr         ms ls    as  ...      fq  mq  \\\n",
       "51   F     G  Best    Vg  Best  Best   N  Unmarried  V  Free  ...  Degree  10   \n",
       "100  M    ST    Vg  Good    Vg    Vg   N  Unmarried  V  Paid  ...      Il  Il   \n",
       "3    M  MOBC  Pass  Good    Vg  Good   N  Unmarried  V  Paid  ...      12  Um   \n",
       "7    F   OBC  Good  Good  Good  Good   N  Unmarried  V  Paid  ...      Il  Um   \n",
       "21   F     G    Vg  Good    Vg    Vg   Y  Unmarried  V  Paid  ...      10  10   \n",
       "1    M   OBC    Vg    Vg    Vg    Vg   N  Unmarried  V  Paid  ...      Um  Il   \n",
       "\n",
       "           fo         mo       nf    sh       ss   me       tt      atd  \n",
       "51   Business  Housewife  Average  Good  Private  Eng    Small     Good  \n",
       "100    Farmer  Housewife    Small  Poor     Govt  Eng    Small  Average  \n",
       "3    Business   Business    Large  Poor     Govt  Asm  Average  Average  \n",
       "7      Farmer  Housewife    Small  Poor  Private  Asm  Average     Good  \n",
       "21    Service  Housewife    Large  Poor  Private  Eng    Small     Good  \n",
       "1     Service    Service    Small  Poor     Govt  Asm  Average  Average  \n",
       "\n",
       "[6 rows x 22 columns]"
      ]
     },
     "execution_count": 55,
     "metadata": {},
     "output_type": "execute_result"
    }
   ],
   "source": [
    "#inspecting random data\n",
    "str_df.sample(n=6)"
   ]
  },
  {
   "cell_type": "code",
   "execution_count": 56,
   "metadata": {},
   "outputs": [
    {
     "name": "stdout",
     "output_type": "stream",
     "text": [
      "<class 'pandas.core.frame.DataFrame'>\n",
      "Int64Index: 131 entries, 0 to 130\n",
      "Data columns (total 22 columns):\n",
      "ge     131 non-null object\n",
      "cst    131 non-null object\n",
      "tnp    131 non-null object\n",
      "twp    131 non-null object\n",
      "iap    131 non-null object\n",
      "esp    131 non-null object\n",
      "arr    131 non-null object\n",
      "ms     131 non-null object\n",
      "ls     131 non-null object\n",
      "as     131 non-null object\n",
      "fmi    131 non-null object\n",
      "fs     131 non-null object\n",
      "fq     131 non-null object\n",
      "mq     131 non-null object\n",
      "fo     131 non-null object\n",
      "mo     131 non-null object\n",
      "nf     131 non-null object\n",
      "sh     131 non-null object\n",
      "ss     131 non-null object\n",
      "me     131 non-null object\n",
      "tt     131 non-null object\n",
      "atd    131 non-null object\n",
      "dtypes: object(22)\n",
      "memory usage: 23.5+ KB\n"
     ]
    },
    {
     "data": {
      "text/html": [
       "<div>\n",
       "<style scoped>\n",
       "    .dataframe tbody tr th:only-of-type {\n",
       "        vertical-align: middle;\n",
       "    }\n",
       "\n",
       "    .dataframe tbody tr th {\n",
       "        vertical-align: top;\n",
       "    }\n",
       "\n",
       "    .dataframe thead th {\n",
       "        text-align: right;\n",
       "    }\n",
       "</style>\n",
       "<table border=\"1\" class=\"dataframe\">\n",
       "  <thead>\n",
       "    <tr style=\"text-align: right;\">\n",
       "      <th></th>\n",
       "      <th>ge</th>\n",
       "      <th>cst</th>\n",
       "      <th>tnp</th>\n",
       "      <th>twp</th>\n",
       "      <th>iap</th>\n",
       "      <th>esp</th>\n",
       "      <th>arr</th>\n",
       "      <th>ms</th>\n",
       "      <th>ls</th>\n",
       "      <th>as</th>\n",
       "      <th>...</th>\n",
       "      <th>fq</th>\n",
       "      <th>mq</th>\n",
       "      <th>fo</th>\n",
       "      <th>mo</th>\n",
       "      <th>nf</th>\n",
       "      <th>sh</th>\n",
       "      <th>ss</th>\n",
       "      <th>me</th>\n",
       "      <th>tt</th>\n",
       "      <th>atd</th>\n",
       "    </tr>\n",
       "  </thead>\n",
       "  <tbody>\n",
       "    <tr>\n",
       "      <td>count</td>\n",
       "      <td>131</td>\n",
       "      <td>131</td>\n",
       "      <td>131</td>\n",
       "      <td>131</td>\n",
       "      <td>131</td>\n",
       "      <td>131</td>\n",
       "      <td>131</td>\n",
       "      <td>131</td>\n",
       "      <td>131</td>\n",
       "      <td>131</td>\n",
       "      <td>...</td>\n",
       "      <td>131</td>\n",
       "      <td>131</td>\n",
       "      <td>131</td>\n",
       "      <td>131</td>\n",
       "      <td>131</td>\n",
       "      <td>131</td>\n",
       "      <td>131</td>\n",
       "      <td>131</td>\n",
       "      <td>131</td>\n",
       "      <td>131</td>\n",
       "    </tr>\n",
       "    <tr>\n",
       "      <td>unique</td>\n",
       "      <td>2</td>\n",
       "      <td>5</td>\n",
       "      <td>4</td>\n",
       "      <td>4</td>\n",
       "      <td>4</td>\n",
       "      <td>4</td>\n",
       "      <td>2</td>\n",
       "      <td>1</td>\n",
       "      <td>2</td>\n",
       "      <td>2</td>\n",
       "      <td>...</td>\n",
       "      <td>6</td>\n",
       "      <td>6</td>\n",
       "      <td>5</td>\n",
       "      <td>5</td>\n",
       "      <td>3</td>\n",
       "      <td>3</td>\n",
       "      <td>2</td>\n",
       "      <td>4</td>\n",
       "      <td>3</td>\n",
       "      <td>3</td>\n",
       "    </tr>\n",
       "    <tr>\n",
       "      <td>top</td>\n",
       "      <td>M</td>\n",
       "      <td>OBC</td>\n",
       "      <td>Good</td>\n",
       "      <td>Good</td>\n",
       "      <td>Vg</td>\n",
       "      <td>Good</td>\n",
       "      <td>N</td>\n",
       "      <td>Unmarried</td>\n",
       "      <td>V</td>\n",
       "      <td>Paid</td>\n",
       "      <td>...</td>\n",
       "      <td>Um</td>\n",
       "      <td>Um</td>\n",
       "      <td>Service</td>\n",
       "      <td>Housewife</td>\n",
       "      <td>Large</td>\n",
       "      <td>Average</td>\n",
       "      <td>Govt</td>\n",
       "      <td>Eng</td>\n",
       "      <td>Small</td>\n",
       "      <td>Good</td>\n",
       "    </tr>\n",
       "    <tr>\n",
       "      <td>freq</td>\n",
       "      <td>72</td>\n",
       "      <td>57</td>\n",
       "      <td>59</td>\n",
       "      <td>65</td>\n",
       "      <td>63</td>\n",
       "      <td>54</td>\n",
       "      <td>78</td>\n",
       "      <td>131</td>\n",
       "      <td>92</td>\n",
       "      <td>76</td>\n",
       "      <td>...</td>\n",
       "      <td>40</td>\n",
       "      <td>52</td>\n",
       "      <td>38</td>\n",
       "      <td>115</td>\n",
       "      <td>58</td>\n",
       "      <td>59</td>\n",
       "      <td>91</td>\n",
       "      <td>62</td>\n",
       "      <td>78</td>\n",
       "      <td>56</td>\n",
       "    </tr>\n",
       "  </tbody>\n",
       "</table>\n",
       "<p>4 rows × 22 columns</p>\n",
       "</div>"
      ],
      "text/plain": [
       "         ge  cst   tnp   twp  iap   esp  arr         ms   ls    as  ...   fq  \\\n",
       "count   131  131   131   131  131   131  131        131  131   131  ...  131   \n",
       "unique    2    5     4     4    4     4    2          1    2     2  ...    6   \n",
       "top       M  OBC  Good  Good   Vg  Good    N  Unmarried    V  Paid  ...   Um   \n",
       "freq     72   57    59    65   63    54   78        131   92    76  ...   40   \n",
       "\n",
       "         mq       fo         mo     nf       sh    ss   me     tt   atd  \n",
       "count   131      131        131    131      131   131  131    131   131  \n",
       "unique    6        5          5      3        3     2    4      3     3  \n",
       "top      Um  Service  Housewife  Large  Average  Govt  Eng  Small  Good  \n",
       "freq     52       38        115     58       59    91   62     78    56  \n",
       "\n",
       "[4 rows x 22 columns]"
      ]
     },
     "execution_count": 56,
     "metadata": {},
     "output_type": "execute_result"
    }
   ],
   "source": [
    "str_df.info()\n",
    "str_df.describe()"
   ]
  },
  {
   "cell_type": "markdown",
   "metadata": {},
   "source": [
    "<p>We can see from the data above that the variables are of type object and they are all categorical. We have also printed the description of the dataset that shows count, mean, unique and top and frequent values. </p>"
   ]
  },
  {
   "cell_type": "markdown",
   "metadata": {},
   "source": [
    "## 4. Cleaning Data"
   ]
  },
  {
   "cell_type": "code",
   "execution_count": 57,
   "metadata": {},
   "outputs": [
    {
     "name": "stdout",
     "output_type": "stream",
     "text": [
      "Duplicate values 0\n",
      "Null Values 0\n",
      "Missing values 0\n"
     ]
    }
   ],
   "source": [
    "#Checking for missing and null values\n",
    "print(\"Duplicate values\",str_df.duplicated().sum().sum())\n",
    "print(\"Null Values\",str_df.isnull().sum().sum())\n",
    "print(\"Missing values\",(str_df=='').sum().sum())"
   ]
  },
  {
   "cell_type": "markdown",
   "metadata": {},
   "source": [
    "## 5. Data Visualization"
   ]
  },
  {
   "cell_type": "markdown",
   "metadata": {},
   "source": [
    "## 5.1 Bar Plots"
   ]
  },
  {
   "cell_type": "code",
   "execution_count": 58,
   "metadata": {
    "scrolled": false
   },
   "outputs": [
    {
     "data": {
      "image/png": "[encoded data removed]",
      "text/plain": [
       "<Figure size 1080x864 with 9 Axes>"
      ]
     },
     "metadata": {
      "needs_background": "light"
     },
     "output_type": "display_data"
    }
   ],
   "source": [
    "import seaborn as sns\n",
    "import matplotlib.pyplot as plt\n",
    "fig,axes= plt.subplots(nrows=3,ncols=3,figsize=[15,12])\n",
    "str_df['ge'].value_counts().plot(kind='bar',ax=axes[0,0],title=\"Distrubution by gender\")\n",
    "str_df['cst'].value_counts().plot(kind='bar',ax=axes[0,1],title=\"Distrubution by caste\")\n",
    "str_df['esp'].value_counts().plot(kind='bar',ax=axes[0,2],title=\"Distribution by End Semester Percentage\")\n",
    "str_df['iap'].value_counts().plot(kind='bar',ax=axes[1,0],title=\"Distrubution by Internal Assesment Percentage\")\n",
    "str_df['ls'].value_counts().plot(kind='bar',ax=axes[1,1],title=\"Distrubution by Living Area\")\n",
    "str_df['as'].value_counts().plot(kind='bar',ax=axes[1,2],title=\"Distrubution by Admission Category\")\n",
    "str_df['fs'].value_counts().plot(kind='bar',ax=axes[2,0],title=\"Distrubution by Family Size\")\n",
    "str_df['sh'].value_counts().plot(kind='bar',ax=axes[2,1],title=\"Distrubution by Study Hours\")\n",
    "str_df['atd'].value_counts().plot(kind='bar',ax=axes[2,2],title=\"Distrubution by Class Attendance\")\n",
    "for ax in axes.flatten():\n",
    "    for label in ax.get_xticklabels():\n",
    "        label.set_rotation(0)"
   ]
  },
  {
   "cell_type": "markdown",
   "metadata": {},
   "source": [
    "<p>By looking at the above plots, the number of males in the data set are more than females. Also, most of these students are from “Other Backward Caste” category, whereas the least of the students belong to “Schedule Caste” category. We also plotted the End-Semester Grades and found out that most of the students received Good (60 <= esp < 80) grades, whereas only a few of the students received the Best grades (esp >= 80); however, none of the students failed.The other most interesting findings I made from these graphs are:</p>\n",
    "    <ol>\n",
    "        <li> Most of the students Internal Assesment percentages are very good.</li>\n",
    "        <li> Most of the students are from Villages.</li>\n",
    "        <li> Only a small number of students have large families or, to be specific, more than 12 students. Most of them have less than 6 people in their homes.</li>\n",
    "    </ol>"
   ]
  },
  {
   "cell_type": "markdown",
   "metadata": {},
   "source": [
    "## 5.2 Box Plots"
   ]
  },
  {
   "cell_type": "code",
   "execution_count": 59,
   "metadata": {
    "scrolled": false
   },
   "outputs": [
    {
     "data": {
      "text/plain": [
       "<matplotlib.axes._subplots.AxesSubplot at 0x1eee5051828>"
      ]
     },
     "execution_count": 59,
     "metadata": {},
     "output_type": "execute_result"
    },
    {
     "data": {
      "image/png": "[encoded data removed]",
      "text/plain": [
       "<Figure size 1080x360 with 1 Axes>"
      ]
     },
     "metadata": {
      "needs_background": "light"
     },
     "output_type": "display_data"
    }
   ],
   "source": [
    "from sklearn.preprocessing import LabelEncoder\n",
    "# Instantiate LabelEncoder\n",
    "# ... YOUR CODE FOR TASK 6 ...\n",
    "le = LabelEncoder()\n",
    "ce=str_df\n",
    "classes={}\n",
    "# Iterate over all the values of each column and extract their dtypes\n",
    "for col in ce:\n",
    "    # Compare if the dtype is object\n",
    "    if ce[col].dtype=='object':\n",
    "    # Use LabelEncoder to do the numeric transformation\n",
    "        ce[col]=le.fit_transform(ce[col])\n",
    "        classes[col]=list(le.classes_)\n",
    "ce.plot(kind=\"box\",figsize=(15,5))"
   ]
  },
  {
   "cell_type": "markdown",
   "metadata": {},
   "source": [
    "<p>As the data is categorical, we were forced to first use the label encoder to change the type of data from objects into numeric. This allowed us to go ahead and plot box plots, even though it won’t be the best way to visualize categorical data. We make some of the most interesting analysis from the above graph:</p>\n",
    "<ol>\n",
    "    <li>The average number of students’ fathers are “Illiterate”. Least of the students’ fathers have passed just Class Ten Examinations. The same can be seen from the box plot of Mothers Qualifications.</li>\n",
    "    <li>Most of the students’ family incomes are from Above Medium, High and Low classes.</li>\n",
    "    <li>There is something not right about the Marital Status of the student’s; seems like most of the students are unmarried/single, which makes sense as the students haven’t aged much.</li>\n",
    "</ol>"
   ]
  },
  {
   "cell_type": "markdown",
   "metadata": {},
   "source": [
    "## 5.3 Scatter Plots"
   ]
  },
  {
   "cell_type": "code",
   "execution_count": 60,
   "metadata": {},
   "outputs": [
    {
     "data": {
      "text/plain": [
       "<matplotlib.axes._subplots.AxesSubplot at 0x1eedf1075c0>"
      ]
     },
     "execution_count": 60,
     "metadata": {},
     "output_type": "execute_result"
    },
    {
     "data": {
      "image/png": "[encoded data removed]",
      "text/plain": [
       "<Figure size 360x360 with 1 Axes>"
      ]
     },
     "metadata": {
      "needs_background": "light"
     },
     "output_type": "display_data"
    }
   ],
   "source": [
    "str_df.plot(kind=\"scatter\",x=\"fmi\",y=\"atd\",figsize=(5,5))"
   ]
  },
  {
   "cell_type": "code",
   "execution_count": 61,
   "metadata": {},
   "outputs": [
    {
     "data": {
      "text/plain": [
       "<matplotlib.axes._subplots.AxesSubplot at 0x1eeddf19198>"
      ]
     },
     "execution_count": 61,
     "metadata": {},
     "output_type": "execute_result"
    },
    {
     "data": {
      "image/png": "[encoded data removed]",
      "text/plain": [
       "<Figure size 360x360 with 1 Axes>"
      ]
     },
     "metadata": {
      "needs_background": "light"
     },
     "output_type": "display_data"
    }
   ],
   "source": [
    "str_df.plot(kind=\"scatter\",x=\"tnp\",y=\"esp\",figsize=(5,5))"
   ]
  },
  {
   "cell_type": "markdown",
   "metadata": {},
   "source": [
    "<p>The dataset contains categorical attributes so it won’t make sense plotting scatter plots of the data. The data seems evenly distributed in both graphs, that is why the scatter plots don’t tell us any useful information.</p>"
   ]
  },
  {
   "cell_type": "markdown",
   "metadata": {},
   "source": [
    "## 6 Correlation and Visualizing Plots\n",
    "<p>Now we will experiment with some graphs to test out which graph gives us a better visualization of response variable against other indicators</p>"
   ]
  },
  {
   "cell_type": "markdown",
   "metadata": {},
   "source": [
    "## 6.1 Bar Graphs of End-Semester-Percentage with the rest of the attributes\n",
    "<p>Firstly, lets try to use seaborn bar plots using some of the attributes:</p>"
   ]
  },
  {
   "cell_type": "code",
   "execution_count": 62,
   "metadata": {
    "scrolled": false
   },
   "outputs": [
    {
     "name": "stdout",
     "output_type": "stream",
     "text": [
      "[['ge' list(['F', 'M'])]\n",
      " ['cst' list(['G', 'MOBC', 'OBC', 'SC', 'ST'])]\n",
      " ['tnp' list(['Best', 'Good', 'Pass', 'Vg'])]\n",
      " ['twp' list(['Best', 'Good', 'Pass', 'Vg'])]\n",
      " ['iap' list(['Best', 'Good', 'Pass', 'Vg'])]\n",
      " ['esp' list(['Best', 'Good', 'Pass', 'Vg'])]\n",
      " ['arr' list(['N', 'Y'])]\n",
      " ['ms' list(['Unmarried'])]\n",
      " ['ls' list(['T', 'V'])]\n",
      " ['as' list(['Free', 'Paid'])]\n",
      " ['fmi' list(['Am', 'High', 'Low', 'Medium', 'Vh'])]\n",
      " ['fs' list(['Average', 'Large', 'Small'])]\n",
      " ['fq' list(['10', '12', 'Degree', 'Il', 'Pg', 'Um'])]\n",
      " ['mq' list(['10', '12', 'Degree', 'Il', 'Pg', 'Um'])]\n",
      " ['fo' list(['Business', 'Farmer', 'Others', 'Retired', 'Service'])]\n",
      " ['mo' list(['Business', 'Housewife', 'Others', 'Retired', 'Service'])]\n",
      " ['nf' list(['Average', 'Large', 'Small'])]\n",
      " ['sh' list(['Average', 'Good', 'Poor'])]\n",
      " ['ss' list(['Govt', 'Private'])]\n",
      " ['me' list(['Asm', 'Ben', 'Eng', 'Hin'])]\n",
      " ['tt' list(['Average', 'Large', 'Small'])]\n",
      " ['atd' list(['Average', 'Good', 'Poor'])]]\n"
     ]
    }
   ],
   "source": [
    "class_df=np.array(list(classes.items()))\n",
    "print(class_df)"
   ]
  },
  {
   "cell_type": "code",
   "execution_count": 63,
   "metadata": {},
   "outputs": [
    {
     "data": {
      "text/plain": [
       "[[Text(0, 0, 'Best'),\n",
       "  Text(0, 0, 'Good'),\n",
       "  Text(0, 0, 'Pass'),\n",
       "  Text(0, 0, 'Vg')]]"
      ]
     },
     "execution_count": 63,
     "metadata": {},
     "output_type": "execute_result"
    },
    {
     "data": {
      "image/png": "[encoded data removed]",
      "text/plain": [
       "<Figure size 1152x936 with 16 Axes>"
      ]
     },
     "metadata": {
      "needs_background": "light"
     },
     "output_type": "display_data"
    }
   ],
   "source": [
    "fig,axes= plt.subplots(nrows=4,ncols=4,figsize=[16,13])\n",
    "g=sns.barplot(data=str_df,x=\"ge\",y=\"esp\",ax=axes[0,0])\n",
    "g.set(xticklabels=classes['ge'])\n",
    "g=sns.barplot(data=str_df,x=\"cst\",y=\"esp\",ax=axes[0,1])\n",
    "g.set(xticklabels=classes['cst'])\n",
    "g=sns.barplot(data=str_df,x=\"tnp\",y=\"esp\",ax=axes[0,2])\n",
    "g.set(xticklabels=classes['tnp'])\n",
    "g=sns.barplot(data=str_df,x=\"twp\",y=\"esp\",ax=axes[0,3])\n",
    "g.set(xticklabels=classes['twp'])\n",
    "g=sns.barplot(data=str_df,x=\"ls\",y=\"esp\",ax=axes[1,0])\n",
    "g.set(xticklabels=classes['ls'])\n",
    "g=sns.barplot(data=str_df,x=\"fmi\",y=\"esp\",ax=axes[1,1])\n",
    "g.set(xticklabels=classes['fmi'])\n",
    "g=sns.barplot(data=str_df,x=\"fs\",y=\"esp\",ax=axes[1,2])\n",
    "g.set(xticklabels=classes['fs'])\n",
    "g=sns.barplot(data=str_df,x=\"fq\",y=\"esp\",ax=axes[1,3])\n",
    "g.set(xticklabels=classes['fq'])\n",
    "g=sns.barplot(data=str_df,x=\"fo\",y=\"esp\",ax=axes[2,0])\n",
    "g.set(xticklabels=classes['fo'])\n",
    "g=sns.barplot(data=str_df,x=\"sh\",y=\"esp\",ax=axes[2,1])\n",
    "g.set(xticklabels=classes['sh'])\n",
    "g=sns.barplot(data=str_df,x=\"tt\",y=\"esp\",ax=axes[2,2])\n",
    "g.set(xticklabels=classes['tt'])\n",
    "g=sns.barplot(data=str_df,x=\"atd\",y=\"esp\",ax=axes[2,3])\n",
    "g.set(xticklabels=classes['atd'])\n",
    "g=sns.barplot(data=str_df,x=\"arr\",y=\"esp\",ax=axes[3,0])\n",
    "g.set(xticklabels=classes['arr'])\n",
    "g=sns.barplot(data=str_df,x=\"mo\",y=\"esp\",ax=axes[3,1])\n",
    "g.set(xticklabels=classes['mo'])\n",
    "g.set_xticklabels(g.get_xticklabels(), rotation=45)\n",
    "g=sns.barplot(data=str_df,x=\"nf\",y=\"esp\",ax=axes[3,2])\n",
    "g.set(xticklabels=classes['nf'])\n",
    "g=sns.barplot(data=str_df,x=\"iap\",y=\"esp\",ax=axes[3,3])\n",
    "g.set(xticklabels=classes['iap'])"
   ]
  },
  {
   "cell_type": "markdown",
   "metadata": {},
   "source": [
    "<p>From the above graphs it seems that End Semester Percentage correlates better with columns other than Gender, Attendance, Travel Time, Study Hours and Arrears. However, this does not seem to be the optimal way to correlate data.</p>"
   ]
  },
  {
   "cell_type": "code",
   "execution_count": 64,
   "metadata": {},
   "outputs": [
    {
     "data": {
      "text/plain": [
       "0    131\n",
       "Name: ms, dtype: int64"
      ]
     },
     "execution_count": 64,
     "metadata": {},
     "output_type": "execute_result"
    }
   ],
   "source": [
    "#Checking marital status column\n",
    "str_df['ms'].value_counts()"
   ]
  },
  {
   "cell_type": "markdown",
   "metadata": {},
   "source": [
    "<p>In the above code,we are ensuring that the students are all unmarried</p>"
   ]
  },
  {
   "cell_type": "markdown",
   "metadata": {},
   "source": [
    "## 6.2 Joint Plots\n",
    "<p>Let’s now move towards jointplots, which can specifically tell us the relation between two attributes:</p>"
   ]
  },
  {
   "cell_type": "code",
   "execution_count": 65,
   "metadata": {},
   "outputs": [
    {
     "data": {
      "text/plain": [
       "<seaborn.axisgrid.JointGrid at 0x1eee2874048>"
      ]
     },
     "execution_count": 65,
     "metadata": {},
     "output_type": "execute_result"
    },
    {
     "data": {
      "image/png": "[encoded data removed]",
      "text/plain": [
       "<Figure size 432x432 with 3 Axes>"
      ]
     },
     "metadata": {
      "needs_background": "light"
     },
     "output_type": "display_data"
    },
    {
     "data": {
      "image/png": "[encoded data removed]",
      "text/plain": [
       "<Figure size 432x432 with 3 Axes>"
      ]
     },
     "metadata": {
      "needs_background": "light"
     },
     "output_type": "display_data"
    }
   ],
   "source": [
    "sns.jointplot(data=str_df,x=\"esp\",y=\"twp\",kind=\"hex\")\n",
    "sns.jointplot(data=str_df,x=\"esp\",y=\"tnp\",kind=\"hex\")"
   ]
  },
  {
   "cell_type": "code",
   "execution_count": 66,
   "metadata": {},
   "outputs": [
    {
     "data": {
      "text/plain": [
       "<seaborn.axisgrid.JointGrid at 0x1eee3258e10>"
      ]
     },
     "execution_count": 66,
     "metadata": {},
     "output_type": "execute_result"
    },
    {
     "data": {
      "image/png": "[encoded data removed]",
      "text/plain": [
       "<Figure size 432x432 with 3 Axes>"
      ]
     },
     "metadata": {
      "needs_background": "light"
     },
     "output_type": "display_data"
    },
    {
     "data": {
      "image/png": "[encoded data removed]",
      "text/plain": [
       "<Figure size 432x432 with 3 Axes>"
      ]
     },
     "metadata": {
      "needs_background": "light"
     },
     "output_type": "display_data"
    }
   ],
   "source": [
    "sns.jointplot(data=str_df,x=\"esp\",y=\"cst\",kind=\"hex\")\n",
    "sns.jointplot(data=str_df,x=\"esp\",y=\"fq\",kind=\"hex\")"
   ]
  },
  {
   "cell_type": "markdown",
   "metadata": {},
   "source": [
    "<p>From the above graphs, the ones with more dark colors show us better correlation between two attributes. Therefore, Family Qualification and caste shows us better correlation than Class XII and Class X percentages. Class XII also shows better correlation than Class X percentage, which means that students’ performances are based better on recent results than on very old results. However, these graphs take too much space and time to tell us how the indicators\n",
    "12\n",
    "correlate with the response variable. We need a better way to show the correlation and also let us know how each attribute’s correlation differs with each other.</p>"
   ]
  },
  {
   "cell_type": "markdown",
   "metadata": {},
   "source": [
    "## 6.3 Correlation Coefficient Heat Map \n",
    "<p>We will use pandas correlation (Pearson’s Correlation Coefficient) function to give us pair wise correlation and tell us how each attribute differentiates with each other. We then use seaborn’s heatmap style matrix graph to show the result:</p>"
   ]
  },
  {
   "cell_type": "code",
   "execution_count": 67,
   "metadata": {
    "scrolled": false
   },
   "outputs": [
    {
     "data": {
      "image/png": "[encoded data removed]",
      "text/plain": [
       "<Figure size 1080x1080 with 2 Axes>"
      ]
     },
     "metadata": {
      "needs_background": "light"
     },
     "output_type": "display_data"
    }
   ],
   "source": [
    "data=ce\n",
    "corr = data.corr()\n",
    "fig = plt.figure(figsize=[15,15])\n",
    "ax = fig.add_subplot(111)\n",
    "cax = ax.matshow(corr,cmap='coolwarm', vmin=-1, vmax=1)\n",
    "fig.colorbar(cax)\n",
    "ticks = np.arange(0,len(data.columns),1)\n",
    "ax.set_xticks(ticks)\n",
    "plt.xticks(rotation=90)\n",
    "ax.set_yticks(ticks)\n",
    "ax.set_xticklabels(data.columns)\n",
    "ax.set_yticklabels(data.columns)\n",
    "plt.show()"
   ]
  },
  {
   "cell_type": "markdown",
   "metadata": {},
   "source": [
    "## 7 Feature Selection \n",
    "<p>The Final Correlations of response variable End-Semester-Percentages are:</p>"
   ]
  },
  {
   "cell_type": "code",
   "execution_count": 68,
   "metadata": {},
   "outputs": [
    {
     "name": "stdout",
     "output_type": "stream",
     "text": [
      "ge     0.069780\n",
      "cst    0.140074\n",
      "tnp    0.293045\n",
      "twp    0.265710\n",
      "iap    0.333076\n",
      "esp    1.000000\n",
      "arr    0.085867\n",
      "ms          NaN\n",
      "ls     0.184471\n",
      "as     0.148154\n",
      "fmi    0.045524\n",
      "fs     0.158971\n",
      "fq    -0.021203\n",
      "mq    -0.039767\n",
      "fo     0.058970\n",
      "mo     0.047507\n",
      "nf     0.087892\n",
      "sh     0.017952\n",
      "ss     0.009439\n",
      "me     0.010564\n",
      "tt    -0.072989\n",
      "atd   -0.096510\n",
      "Name: esp, dtype: float64\n",
      "['fmi', 'fq', 'mq', 'mo', 'sh', 'ss', 'me', 'ms']\n"
     ]
    }
   ],
   "source": [
    "newset=corr[abs(corr['esp'])<0.05]['esp'].index.tolist()\n",
    "newset.append('ms')\n",
    "print(corr['esp'])\n",
    "print(newset)"
   ]
  },
  {
   "cell_type": "markdown",
   "metadata": {},
   "source": [
    "<p>After looking at the coeffients, we select those attributes that have an absolute value of more than 0.07. Below, we are selecting a sample and doing hypotheses testing, which is described in the report.</p>"
   ]
  },
  {
   "cell_type": "code",
   "execution_count": 69,
   "metadata": {},
   "outputs": [
    {
     "name": "stdout",
     "output_type": "stream",
     "text": [
      "ge     1.000000e+00\n",
      "cst    6.646584e-17\n",
      "tnp   -1.464504e-01\n",
      "twp   -1.924145e-02\n",
      "iap   -3.934447e-02\n",
      "esp    7.347184e-02\n",
      "arr   -1.236128e-01\n",
      "ms              NaN\n",
      "ls    -1.448414e-01\n",
      "as     5.205792e-02\n",
      "fmi   -1.755791e-01\n",
      "fs     2.111002e-01\n",
      "fq     1.029059e-01\n",
      "mq     2.363439e-01\n",
      "fo     2.591509e-02\n",
      "mo     2.305715e-02\n",
      "nf     1.974881e-01\n",
      "sh    -1.056207e-01\n",
      "ss     4.082483e-01\n",
      "me     1.377857e-01\n",
      "tt    -1.469538e-01\n",
      "atd   -8.137885e-02\n",
      "Name: ge, dtype: float64\n",
      "ge     0.073472\n",
      "cst    0.142953\n",
      "tnp    0.412242\n",
      "twp    0.373925\n",
      "iap    0.225475\n",
      "esp    1.000000\n",
      "arr    0.161963\n",
      "ms          NaN\n",
      "ls     0.251855\n",
      "as     0.139605\n",
      "fmi    0.202297\n",
      "fs     0.269873\n",
      "fq    -0.011761\n",
      "mq    -0.228171\n",
      "fo     0.054265\n",
      "mo     0.033034\n",
      "nf     0.121882\n",
      "sh     0.065185\n",
      "ss    -0.022496\n",
      "me    -0.026032\n",
      "tt    -0.191261\n",
      "atd    0.161434\n",
      "Name: esp, dtype: float64\n"
     ]
    }
   ],
   "source": [
    "hyp=data[:50]\n",
    "hyp_corr=hyp.corr()\n",
    "print(hyp_corr['ge'])\n",
    "print(hyp_corr['esp'])"
   ]
  },
  {
   "cell_type": "markdown",
   "metadata": {},
   "source": [
    "<p>Therefore, we drop the attributes from the dataset, that have coeffcient less than 0.07, and then move onto splitting data into training and testing splits:</p"
   ]
  },
  {
   "cell_type": "code",
   "execution_count": 70,
   "metadata": {},
   "outputs": [
    {
     "name": "stdout",
     "output_type": "stream",
     "text": [
      "<class 'pandas.core.frame.DataFrame'>\n",
      "Int64Index: 131 entries, 0 to 130\n",
      "Data columns (total 14 columns):\n",
      "ge     131 non-null int32\n",
      "cst    131 non-null int32\n",
      "tnp    131 non-null int32\n",
      "twp    131 non-null int32\n",
      "iap    131 non-null int32\n",
      "esp    131 non-null int32\n",
      "arr    131 non-null int32\n",
      "ls     131 non-null int32\n",
      "as     131 non-null int32\n",
      "fs     131 non-null int32\n",
      "fo     131 non-null int32\n",
      "nf     131 non-null int32\n",
      "tt     131 non-null int32\n",
      "atd    131 non-null int32\n",
      "dtypes: int32(14)\n",
      "memory usage: 13.2 KB\n",
      "None\n",
      "(131, 13)\n",
      "(131,)\n"
     ]
    }
   ],
   "source": [
    "pred_esp1=ce\n",
    "pred_esp1 = pred_esp1.drop(newset, axis=1)\n",
    "print(pred_esp1.info())\n",
    "\n",
    "pred_esp1 = pred_esp1.to_numpy()\n",
    "# print(pred_esp1[:,5])\n",
    "# Segregate features and labels into separate variables\n",
    "X,y = np.append(pred_esp1[:,0:5],pred_esp1[:,6:],axis=1) , pred_esp1[:,5]\n",
    "print(X.shape)\n",
    "print(y.shape)"
   ]
  },
  {
   "cell_type": "markdown",
   "metadata": {},
   "source": [
    "<p>We drop the column ‘ms’ (marital status), because every student was single. We will first convert data to numpy then split data, with one-thirds going into the testing dataset. No scaling would be necessary as data is categorical and not numerical.</p>"
   ]
  },
  {
   "cell_type": "code",
   "execution_count": 71,
   "metadata": {},
   "outputs": [],
   "source": [
    "# Import train_test_split\n",
    "from sklearn.model_selection import train_test_split\n",
    "# Split into train and test sets\n",
    "X_train, X_test, y_train, y_test = train_test_split(X,\n",
    "                                y,\n",
    "                                test_size=0.33,\n",
    "                                random_state=42)"
   ]
  },
  {
   "cell_type": "markdown",
   "metadata": {},
   "source": [
    "## 8 Supervised Learning"
   ]
  },
  {
   "cell_type": "markdown",
   "metadata": {},
   "source": [
    "## 8.1 Logistic Regression"
   ]
  },
  {
   "cell_type": "code",
   "execution_count": 72,
   "metadata": {},
   "outputs": [],
   "source": [
    "import warnings\n",
    "warnings.simplefilter(action=\"ignore\",category=FutureWarning)"
   ]
  },
  {
   "cell_type": "code",
   "execution_count": 73,
   "metadata": {},
   "outputs": [
    {
     "data": {
      "text/plain": [
       "LogisticRegression(C=1.0, class_weight=None, dual=False, fit_intercept=True,\n",
       "                   intercept_scaling=1, l1_ratio=None, max_iter=100,\n",
       "                   multi_class='warn', n_jobs=None, penalty='l2',\n",
       "                   random_state=None, solver='warn', tol=0.0001, verbose=0,\n",
       "                   warm_start=False)"
      ]
     },
     "execution_count": 73,
     "metadata": {},
     "output_type": "execute_result"
    }
   ],
   "source": [
    "# Import LogisticRegression\n",
    "from sklearn.linear_model import LogisticRegression\n",
    "# Instantiate a LogisticRegression classifier with default parameter values\n",
    "logreg = LogisticRegression()\n",
    "# Fit logreg to the train set\n",
    "logreg.fit(X_train,y_train)"
   ]
  },
  {
   "cell_type": "code",
   "execution_count": 74,
   "metadata": {},
   "outputs": [
    {
     "name": "stdout",
     "output_type": "stream",
     "text": [
      "Accuracy of logistic regression classifier:  0.5227272727272727\n"
     ]
    },
    {
     "data": {
      "text/plain": [
       "array([[ 0,  1,  1,  2],\n",
       "       [ 0, 13,  4,  5],\n",
       "       [ 0,  1,  3,  0],\n",
       "       [ 0,  5,  2,  7]], dtype=int64)"
      ]
     },
     "execution_count": 74,
     "metadata": {},
     "output_type": "execute_result"
    }
   ],
   "source": [
    "# Import confusion_matrix\n",
    "from sklearn.metrics import confusion_matrix\n",
    "# Use logreg to predict instances from the test set and store it\n",
    "y_pred = logreg.predict(X_test)\n",
    "# Get the accuracy score of logreg model and print it\n",
    "print(\"Accuracy of logistic regression classifier: \", logreg.score(X_test,y_test))\n",
    "# Print the confusion matrix of the logreg model\n",
    "confusion_matrix(y_test,y_pred)"
   ]
  },
  {
   "cell_type": "markdown",
   "metadata": {},
   "source": [
    "## 8.2 Random Forrest"
   ]
  },
  {
   "cell_type": "code",
   "execution_count": 75,
   "metadata": {},
   "outputs": [
    {
     "name": "stdout",
     "output_type": "stream",
     "text": [
      "Accuracy of random forest classifier:  0.5681818181818182 104\n"
     ]
    }
   ],
   "source": [
    "# Import RandomForestClassifier\n",
    "from sklearn.ensemble import RandomForestClassifier\n",
    "from sklearn.metrics import confusion_matrix\n",
    "# Instantiate a RandomForest classifier with default parameter values\n",
    "max=0\n",
    "max_random=0\n",
    "for i in range(200):\n",
    "    clf = RandomForestClassifier(random_state=i)\n",
    "    # Fit clf to the train set\n",
    "    clf.fit(X_train, y_train)\n",
    "    y_pred = clf.predict(X_test)\n",
    "    # Get the accuracy score of clf model and print it\n",
    "    # Print the confusion matrix of the logreg model\n",
    "    if(clf.score(X_test,y_test)>max):\n",
    "        max=clf.score(X_test,y_test)\n",
    "        max_random=i\n",
    "print(\"Accuracy of random forest classifier: \", clf.score(X_test,y_test),max_random)"
   ]
  },
  {
   "cell_type": "markdown",
   "metadata": {},
   "source": [
    "## 8.3 Naive Bayes Classifier"
   ]
  },
  {
   "cell_type": "code",
   "execution_count": 76,
   "metadata": {},
   "outputs": [
    {
     "name": "stdout",
     "output_type": "stream",
     "text": [
      "Accuracy of naive bayes classifier:  0.5909090909090909\n"
     ]
    }
   ],
   "source": [
    "import sklearn.naive_bayes as nv\n",
    "clf = nv.GaussianNB()\n",
    "clf.fit(X_train, y_train)\n",
    "y_pred = clf.predict(X_test)\n",
    "print(\"Accuracy of naive bayes classifier: \", clf.score(X_test,y_test))"
   ]
  },
  {
   "cell_type": "markdown",
   "metadata": {},
   "source": [
    "## 8.4 Neural Network"
   ]
  },
  {
   "cell_type": "code",
   "execution_count": 77,
   "metadata": {},
   "outputs": [
    {
     "name": "stdout",
     "output_type": "stream",
     "text": [
      "Accuracy of neural network classifier:  0.5227272727272727\n"
     ]
    },
    {
     "name": "stderr",
     "output_type": "stream",
     "text": [
      "C:\\Users\\samee\\AppData\\Local\\Programs\\Python\\Python36\\lib\\site-packages\\sklearn\\neural_network\\multilayer_perceptron.py:566: ConvergenceWarning: Stochastic Optimizer: Maximum iterations (200) reached and the optimization hasn't converged yet.\n",
      "  % self.max_iter, ConvergenceWarning)\n"
     ]
    }
   ],
   "source": [
    "from sklearn.neural_network import MLPClassifier\n",
    "clf = MLPClassifier()\n",
    "clf.fit(X_train, y_train)\n",
    "y_pred = clf.predict(X_test)\n",
    "confusion_matrix(y_test,y_pred)\n",
    "print(\"Accuracy of neural network classifier: \", clf.score(X_test,y_test))"
   ]
  },
  {
   "cell_type": "markdown",
   "metadata": {},
   "source": [
    "## 8.5 Decision Tree"
   ]
  },
  {
   "cell_type": "code",
   "execution_count": 78,
   "metadata": {},
   "outputs": [
    {
     "name": "stdout",
     "output_type": "stream",
     "text": [
      "Accuracy of decision tree classifier:  0.5681818181818182 33\n"
     ]
    }
   ],
   "source": [
    "from sklearn import tree\n",
    "max=0\n",
    "max_random=0\n",
    "for i in range(200):\n",
    "    clf = tree.DecisionTreeClassifier(random_state=i)\n",
    "    # Fit clf to the train set\n",
    "    clf.fit(X_train, y_train)\n",
    "    y_pred = clf.predict(X_test)\n",
    "    # Get the accuracy score of clf model and print it\n",
    "    # Print the confusion matrix of the logreg model\n",
    "    confusion_matrix(y_test,y_pred)\n",
    "    if(clf.score(X_test,y_test)>max):\n",
    "        max=clf.score(X_test,y_test)\n",
    "        max_random=i\n",
    "print(\"Accuracy of decision tree classifier: \", clf.score(X_test,y_test),max_random)"
   ]
  },
  {
   "cell_type": "markdown",
   "metadata": {},
   "source": [
    "## 9 Conclusion\n",
    "<p>Therefore, Naive Bayes Classifier are performing better than other models. . The columns that we used in our feature selection and the columns that the researchers used differ, this might be since they used 300 rows, whereas we were only provided with 131 rows. This might be the case why we might be getting very low accuracy</p>"
   ]
  }
 ],
 "metadata": {
  "kernelspec": {
   "display_name": "Python 3",
   "language": "python",
   "name": "python3"
  },
  "language_info": {
   "codemirror_mode": {
    "name": "ipython",
    "version": 3
   },
   "file_extension": ".py",
   "mimetype": "text/x-python",
   "name": "python",
   "nbconvert_exporter": "python",
   "pygments_lexer": "ipython3",
   "version": "3.6.4"
  }
 },
 "nbformat": 4,
 "nbformat_minor": 2
}
